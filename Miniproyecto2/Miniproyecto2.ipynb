{
 "cells": [
  {
   "cell_type": "markdown",
   "source": "# Inteligencia Artificial / Maestría MACC\n## Miniproyecto 2: Buscaminas con Lógica Proposicional\n#### Presentado por: Juan David Rojas \\& Oscar Velasco\n#### Presentado a: Edgar José Andrade\n### 01 de Noviembre de 2021",
   "metadata": {
    "tags": [],
    "cell_id": "00000-60751897-bc26-463c-9a10-ec715ae39679",
    "deepnote_cell_type": "markdown"
   }
  },
  {
   "cell_type": "code",
   "metadata": {
    "tags": [],
    "cell_id": "00001-481dbd95-aaf7-4378-8ceb-b9d566e7e4f8",
    "deepnote_to_be_reexecuted": false,
    "source_hash": "4e9abbbf",
    "execution_start": 1635718109224,
    "execution_millis": 3,
    "deepnote_cell_type": "code"
   },
   "source": "from logica import *\nfrom minesweeper import *\nfrom time import sleep, time\nfrom IPython.display import display, clear_output\nfrom PIL import Image\n\nimport random\nimport os\nimport pandas as pd",
   "outputs": [],
   "execution_count": null
  },
  {
   "cell_type": "markdown",
   "source": "## Implementación Ambiente de Tarea",
   "metadata": {
    "tags": [],
    "cell_id": "00001-909dfb40-1347-4007-a126-0a0756393859",
    "deepnote_cell_type": "markdown"
   }
  },
  {
   "cell_type": "code",
   "metadata": {
    "tags": [],
    "cell_id": "00003-f51f1f89-8760-49d4-83fe-9ee44893c5a6",
    "deepnote_to_be_reexecuted": false,
    "source_hash": "a97a53d1",
    "execution_start": 1635714903171,
    "execution_millis": 3,
    "deepnote_cell_type": "code"
   },
   "source": "class Agente:\n\n    def __init__(self, mundo, base_conocimiento = None, descriptor = None):\n        self.mundo = mundo\n        self.base_conocimiento = base_conocimiento\n        self.cods = descriptor\n\n\n    def make_percept_sentence(self):\n        # Crea una conjuncion de literales para añadir a la base de datos\n        literales = ''\n        counts = self.mundo.counts\n        clicks = self.mundo.clicked\n        flags = self.mundo.flags\n        for j,(x,y) in enumerate(zip(*np.where(clicks == True))):\n            literales += '-' + self.cods.P([x,y,0])\n            if counts[x,y] != 0:\n                literales += 'Y' + self.cods.P([x,y,counts[x,y]])\n            if j!= len(np.where(clicks == True)[0])-1:\n                literales += 'Y'\n        for x,y in zip(*np.where(flags!=0)):\n            literales += 'Y' + self.cods.P([x,y,0])\n\n        return literales\n    \n\n    def valida(self, posicion):\n        if (posicion[0] > -1) & (posicion[0]<self.mundo.width) & (posicion[1]>-1) & (posicion[1]<self.mundo.height):\n            return True\n\n\n    def adyacentes(self, casilla):\n        i, j = casilla\n        direcciones = np.array([[1, 0], [1, 1], [0, 1], [-1, 1], [-1, 0], [-1, -1], [0, -1], [1, -1]])\n        adyacentes = [(posicion[0], posicion[1]) for posicion in direcciones + [i, j] if self.valida(posicion)]\n        return adyacentes\n    \n\n    def crear_formulas_seguras(self):\n        formulas_minas = []\n        for (i,j) in self.casillas_reglas():\n            if self.mundo.counts[i,j]==1:\n                formulas_minas += self.formulas_una_mina((i,j))\n            elif self.mundo.counts[i,j]==2:\n                formulas_minas += self.formulas_dos_minas((i,j))\n            elif self.mundo.counts[i,j]==3:\n                formulas_minas += self.formulas_tres_minas((i,j))\n            elif self.mundo.counts[i,j]==4:\n                formulas_minas += self.formulas_cuatro_minas((i,j))\n            else:\n                formulas_minas += self.formulas_cinco_minas((i,j))\n        return formulas_minas\n    \n\n    def formulas_una_mina(self, casilla):\n        i, j = casilla\n        formulas_una_mina = []\n        for k in self.adyacentes((i,j)):\n            cadena = self.cods.P([i,j,1])+'Y'+self.cods.P([k[0],k[1],0])\n            aux = self.adyacentes((i,j))\n            aux.remove(k)\n            for l in aux:\n                formulas_una_mina.append(cadena+'>-'+self.cods.P([l[0],l[1],0]))\n        return formulas_una_mina\n    \n\n    def formulas_dos_minas(self, casilla):\n        i, j = casilla\n        formulas_dos_minas = []\n        for k in self.adyacentes((i,j)):\n            cadena = self.cods.P([i,j,2])+'Y'+self.cods.P([k[0],k[1],0])\n            aux = self.adyacentes((i,j))\n            aux.remove(k)\n            for l in aux:\n                aux2 = aux.copy()\n                aux2.remove(l)\n                for n in aux2:\n                    formulas_dos_minas.append(cadena+'Y'+self.cods.P([l[0],l[1],0])+'>-'+self.cods.P([n[0],n[1],0]))\n        return formulas_dos_minas\n    \n\n    def formulas_tres_minas(self, casilla):\n        i, j = casilla\n        formulas_tres_minas = []\n        for k in self.adyacentes((i,j)):\n            cadena = self.cods.P([i,j,3])+'Y'+self.cods.P([k[0],k[1],0])\n            aux = self.adyacentes((i,j))\n            aux.remove(k)\n            for l in aux:\n                aux2 = aux.copy()\n                aux2.remove(l)\n                for n in aux2:\n                    aux3 = aux2.copy()\n                    aux3.remove(n)\n                    for m in aux3:\n                        formulas_tres_minas.append(cadena+'Y'+self.cods.P([l[0],l[1],0])+\n                                                   'Y'+self.cods.P([n[0],n[1],0])+'>-'+self.cods.P([m[0],m[1],0]))\n        return formulas_tres_minas\n    \n\n    def formulas_cuatro_minas(self, casilla):\n        i, j = casilla\n        formulas_cuatro_minas = []\n        for k in self.adyacentes((i,j)):\n            cadena = self.cods.P([i,j,4])+'Y'+self.cods.P([k[0],k[1],0])\n            aux = self.adyacentes((i,j))\n            aux.remove(k)\n            for l in aux:\n                aux2 = aux.copy()\n                aux2.remove(l)\n                for n in aux2:\n                    aux3 = aux2.copy()\n                    aux3.remove(n)\n                    for m in aux3:\n                        aux4 = aux3.copy()\n                        aux4.remove(m)\n                        for p in aux4:\n                            formulas_cuatro_minas.append(cadena+'Y'+self.cods.P([l[0],l[1],0])+\n                                                   'Y'+self.cods.P([n[0],n[1],0])+'Y'+self.cods.P([m[0],m[1],0])+\n                                                        '>-'+self.cods.P([p[0],p[1],0]))\n\n        return formulas_cuatro_minas\n\n    \n    def formulas_cinco_minas(self, casilla):\n        i, j = casilla\n        formulas_cinco_minas = []\n        for k in self.adyacentes((i,j)):\n            cadena = self.cods.P([i,j,5])+'Y'+self.cods.P([k[0],k[1],0])\n            aux = self.adyacentes((i,j))\n            aux.remove(k)\n            for l in aux:\n                aux2 = aux.copy()\n                aux2.remove(l)\n                for n in aux2:\n                    aux3 = aux2.copy()\n                    aux3.remove(n)\n                    for m in aux3:\n                        aux4 = aux3.copy()\n                        aux4.remove(m)\n                        for p in aux4:\n                            aux5 = aux4.copy()\n                            aux5.remove(p)\n                            for q in aux5:\n                                formulas_cinco_minas.append(cadena+'Y'+self.cods.P([l[0],l[1],0])+\n                                                   'Y'+self.cods.P([n[0],n[1],0])+'Y'+self.cods.P([m[0],m[1],0])+\n                                                        'Y'+self.cods.P([p[0],p[1],0])+'>-'+self.cods.P([q[0],q[1],0]))\n\n        return formulas_cinco_minas\n    \n\n    def crear_formulas_flags(self):\n        formulas_seguras = []\n        for (i,j) in self.casillas_reglas():\n            if self.mundo.counts[i,j]==1:\n                formulas_seguras += self.formulas_una_segura((i,j))\n            elif self.mundo.counts[i,j]==2:\n                formulas_seguras += self.formulas_dos_seguras((i,j))\n            elif self.mundo.counts[i,j]==3:\n                formulas_seguras += self.formulas_tres_seguras((i,j))\n            elif self.mundo.counts[i,j]==4:\n                formulas_seguras += self.formulas_cuatro_seguras((i,j))\n            else:\n                formulas_seguras += self.formulas_cinco_seguras((i,j))\n        return formulas_seguras\n    \n\n    def formulas_una_segura(self, casilla):\n        i, j = casilla\n        formulas_una_segura = []\n        for k in self.adyacentes((i,j)):\n            cadena = self.cods.P([i,j,1])\n            aux = self.adyacentes((i,j))\n            aux.remove(k)\n            for l in aux:\n                cadena +='Y-'+self.cods.P([l[0],l[1],0])\n            formulas_una_segura.append(cadena+'>'+self.cods.P([k[0],k[1],0]))\n                                       \n        return formulas_una_segura\n    \n\n    def formulas_dos_seguras(self, casilla):\n        i, j = casilla\n        formulas_dos_seguras = []\n        for k in self.adyacentes((i,j)):\n            aux = self.adyacentes((i,j))\n            aux.remove(k)\n            for l in aux:\n                cadena = self.cods.P([i,j,2])\n                aux2 = aux.copy()\n                aux2.remove(l)\n                for n in aux2:\n                    cadena +='Y-'+self.cods.P([n[0],n[1],0])\n                if cadena+'>'+self.cods.P([l[0],l[1],0]) not in formulas_dos_seguras:\n                    formulas_dos_seguras.append(cadena+'>'+self.cods.P([l[0],l[1],0]))\n                if cadena+'>'+self.cods.P([k[0],k[1],0]) not in formulas_dos_seguras:\n                    formulas_dos_seguras.append(cadena+'>'+self.cods.P([k[0],k[1],0]))\n                                       \n        return formulas_dos_seguras\n    \n\n    def formulas_tres_seguras(self, casilla):\n        i, j = casilla\n        formulas_tres_seguras = []\n        for k in self.adyacentes((i,j)):\n            aux = self.adyacentes((i,j))\n            aux.remove(k)\n            for l in aux:\n                aux2 = aux.copy()\n                aux2.remove(l)\n                for n in aux2:\n                    cadena = self.cods.P([i,j,3])\n                    aux3 = aux2.copy()\n                    aux3.remove(n)\n                    for m in aux3:\n                        cadena +='Y-'+self.cods.P([m[0],m[1],0])\n                    if cadena+'>'+self.cods.P([n[0],n[1],0]) not in formulas_tres_seguras:\n                        formulas_tres_seguras.append(cadena+'>'+self.cods.P([n[0],n[1],0]))\n                    if cadena+'>'+self.cods.P([l[0],l[1],0]) not in formulas_tres_seguras:\n                        formulas_tres_seguras.append(cadena+'>'+self.cods.P([l[0],l[1],0]))\n                    if cadena+'>'+self.cods.P([k[0],k[1],0]) not in formulas_tres_seguras:\n                        formulas_tres_seguras.append(cadena+'>'+self.cods.P([k[0],k[1],0]))\n                         \n        return formulas_tres_seguras\n    \n\n    def formulas_cuatro_seguras(self, casilla):\n        i, j = casilla\n        formulas_cuatro_seguras = []\n        for k in self.adyacentes((i,j)):\n            aux = self.adyacentes((i,j))\n            aux.remove(k)\n            for l in aux:\n                aux2 = aux.copy()\n                aux2.remove(l)\n                for n in aux2:\n                    aux3 = aux2.copy()\n                    aux3.remove(n)\n                    for m in aux3:\n                        cadena = self.cods.P([i,j,4])\n                        aux4 = aux3.copy()\n                        aux4.remove(m)\n                        for p in aux4:\n                            cadena +='Y-'+self.cods.P([p[0],p[1],0])\n                        if cadena+'>'+self.cods.P([m[0],m[1],0]) not in formulas_cuatro_seguras:\n                            formulas_cuatro_seguras.append(cadena+'>'+self.cods.P([m[0],m[1],0]))\n                        if cadena+'>'+self.cods.P([n[0],n[1],0]) not in formulas_cuatro_seguras:\n                            formulas_cuatro_seguras.append(cadena+'>'+self.cods.P([n[0],n[1],0]))\n                        if cadena+'>'+self.cods.P([l[0],l[1],0]) not in formulas_cuatro_seguras:\n                            formulas_cuatro_seguras.append(cadena+'>'+self.cods.P([l[0],l[1],0]))\n                        if cadena+'>'+self.cods.P([k[0],k[1],0]) not in formulas_cuatro_seguras:\n                            formulas_cuatro_seguras.append(cadena+'>'+self.cods.P([k[0],k[1],0]))\n                         \n        return formulas_cuatro_seguras\n\n\n    def formulas_cinco_seguras(self, casilla):\n        i, j = casilla\n        formulas_cinco_seguras = []\n        for k in self.adyacentes((i,j)):\n            aux = self.adyacentes((i,j))\n            aux.remove(k)\n            for l in aux:\n                aux2 = aux.copy()\n                aux2.remove(l)\n                for n in aux2:\n                    aux3 = aux2.copy()\n                    aux3.remove(n)\n                    for m in aux3:\n                        aux4 = aux3.copy()\n                        aux4.remove(m)\n                        for p in aux4:\n                            cadena = self.cods.P([i,j,5])\n                            aux5 = aux4.copy()\n                            aux5.remove(p)\n                            for q in aux5:\n                                cadena +='Y-'+self.cods.P([q[0],q[1],0])\n                            if cadena+'>'+self.cods.P([p[0],p[1],0]) not in formulas_cinco_seguras:\n                                formulas_cinco_seguras.append(cadena+'>'+self.cods.P([p[0],p[1],0]))\n                            if cadena+'>'+self.cods.P([m[0],m[1],0]) not in formulas_cinco_seguras:\n                                formulas_cinco_seguras.append(cadena+'>'+self.cods.P([m[0],m[1],0]))\n                            if cadena+'>'+self.cods.P([n[0],n[1],0]) not in formulas_cinco_seguras:\n                                formulas_cinco_seguras.append(cadena+'>'+self.cods.P([n[0],n[1],0]))\n                            if cadena+'>'+self.cods.P([l[0],l[1],0]) not in formulas_cinco_seguras:\n                                formulas_cinco_seguras.append(cadena+'>'+self.cods.P([l[0],l[1],0]))\n                            if cadena+'>'+self.cods.P([k[0],k[1],0]) not in formulas_cinco_seguras:\n                                formulas_cinco_seguras.append(cadena+'>'+self.cods.P([k[0],k[1],0]))\n                         \n        return formulas_cinco_seguras\n    \n\n    def casillas_reglas(self):\n        clicks = self.mundo.clicked \n        flags = self.mundo.flags\n        reglas = []\n        for casilla in set(zip(*np.where(clicks == False))).difference(zip(*np.where(flags != 0))):\n            reglas+= [pos for pos in set(zip(*np.where(clicks == True))).intersection(set(self.adyacentes(casilla)))]\n        return set(reglas)\n    \n\n    def casillas_evaluar(self):\n        clicks = self.mundo.clicked \n        flags = self.mundo.flags\n        evaluar = []\n        for casilla in self.casillas_reglas():\n            evaluar += [pos for pos in set(zip(*np.where(clicks == False))).intersection(set(self.adyacentes(casilla))).difference(zip(*np.where(flags != 0)))]\n        return set(evaluar)\n    \n\n    def casillas_aleatoria(self):\n        clicks = self.mundo.clicked \n        flags = self.mundo.flags\n        aleatoria = (set(zip(*np.where(clicks == False))).difference(set(zip(*np.where(flags != 0))))).difference(set(self.casillas_evaluar()))\n        return aleatoria\n    \n\n    def adyacentes_seguras(self):\n        casillas_seguras = []\n        for i,j in self.casillas_evaluar():\n            objetivo = '-'+self.cods.P([i,j,0])\n            resultado = ASK(objetivo, 'success', self.base_conocimiento)\n            if resultado:\n                casillas_seguras.append((i,j))\n                #return (i,j)\n        return casillas_seguras\n        #return False\n    \n    \n    def adyacentes_flags(self):\n        casillas_flags = []\n        for i,j in self.casillas_evaluar():\n            objetivo = self.cods.P([i,j,0])\n            resultado = ASK(objetivo, 'success', self.base_conocimiento)\n            if resultado:\n                casillas_flags.append((i,j))\n                #return (i,j)\n        return casillas_flags\n        #return False",
   "outputs": [],
   "execution_count": null
  },
  {
   "cell_type": "markdown",
   "source": "## Solución del Problema",
   "metadata": {
    "tags": [],
    "cell_id": "00004-7b701525-d410-4395-bd80-02c47bda1927",
    "deepnote_cell_type": "markdown"
   }
  },
  {
   "cell_type": "markdown",
   "source": "### Tablero 5x5",
   "metadata": {
    "tags": [],
    "cell_id": "00005-5fc08422-21af-47de-af81-b80f346109b4",
    "deepnote_cell_type": "markdown"
   }
  },
  {
   "cell_type": "code",
   "metadata": {
    "tags": [],
    "cell_id": "00005-c986a6e6-092f-4c5f-bf2f-3bb0baba1db2",
    "deepnote_to_be_reexecuted": false,
    "source_hash": "1fd63e62",
    "execution_start": 1635693383455,
    "execution_millis": 373,
    "deepnote_cell_type": "code"
   },
   "source": "# Tablero Inicial\ninfo = 6\nfilas = 5\ncolumnas = 5\nminas = int((filas * columnas) * 0.16)\nIenCasilla = Descriptor([columnas, filas, info])\nms = MineSweeper(filas, columnas, minas)\nagente = Agente(ms, descriptor=IenCasilla)\ni,j = random.choice(list(agente.casillas_aleatoria()))\nagente.mundo._click_square(i,j)\nplt.savefig(\"tablero{0}x{1}/tablero{0}x{1}_{2}.png\".format(filas, columnas, 1))",
   "execution_count": null,
   "outputs": [
    {
     "data": {
      "text/plain": "<Figure size 168x168 with 1 Axes>",
      "image/png": "[encoded data removed]"
     },
     "metadata": {
      "image/png": {
       "width": 165,
       "height": 165
      }
     },
     "output_type": "display_data"
    }
   ]
  },
  {
   "cell_type": "code",
   "metadata": {
    "tags": [],
    "cell_id": "00005-c30caf86-63c0-4c4a-9a22-6cfac0f51cc2",
    "deepnote_to_be_reexecuted": false,
    "source_hash": "a0c1ce37",
    "execution_start": 1635693386981,
    "execution_millis": 7346,
    "deepnote_cell_type": "code"
   },
   "source": "k = 2\nwhile True:\n    ## Mira estado actual\n    estado_actual = agente.make_percept_sentence()\n    ## Crea reglas para banderas\n    agente.base_conocimiento = LPQuery(agente.crear_formulas_flags())\n    agente.base_conocimiento.TELL(estado_actual)\n    lista1 = agente.adyacentes_flags()\n    ## Flag si son bombas\n    for i,j in lista1:\n        agente.mundo._toggle_mine_flag(i,j)\n           \n    ## Mira estado actual\n    estado_actual = agente.make_percept_sentence()\n    ## Crea reglas para casillas seguras\n    agente.base_conocimiento = LPQuery(agente.crear_formulas_seguras())\n    agente.base_conocimiento.TELL(estado_actual)\n    lista2 = agente.adyacentes_seguras()\n    ## Clicks si son seguras\n    for i,j in lista2:\n        agente.mundo._click_square(i,j)\n        \n    ## Si no hace nada se escoge una aleatoria\n    if len(lista1)==0 & len(lista2)==0:\n        if len(agente.casillas_aleatoria()) != 0:\n            i,j = random.choice(list(agente.casillas_aleatoria()))\n            agente.mundo._click_square(i,j)\n        elif len(agente.casillas_evaluar()) != 0:\n            i,j = random.choice(list(agente.casillas_evaluar()))\n            agente.mundo._click_square(i,j)\n    \n    ## Dibuja tablero\n    #ms.fig.canvas.draw()\n    #sleep(1)\n    #clear_output(wait=True)\n    agente.mundo.fig.savefig(\"tablero{0}x{1}/tablero{0}x{1}_{2}.png\".format(filas, columnas, k))\n    k += 1\n    if agente.mundo.game_over == True:\n        if agente.mundo.mines.sum() == (~agente.mundo.clicked).sum():\n            print('Ganaste!')\n        else:\n            print('Perdiste!')\n        break\n\nms.fig",
   "execution_count": null,
   "outputs": [
    {
     "name": "stdout",
     "text": "Ganaste!\n",
     "output_type": "stream"
    },
    {
     "output_type": "execute_result",
     "execution_count": 124,
     "data": {
      "text/plain": "<Figure size 168x168 with 1 Axes>",
      "image/png": "[encoded data removed]"
     },
     "metadata": {
      "image/png": {
       "width": 165,
       "height": 165
      }
     }
    }
   ]
  },
  {
   "cell_type": "markdown",
   "source": "### Tablero 6x6",
   "metadata": {
    "tags": [],
    "cell_id": "00008-9607d7f7-251f-4e18-a768-589d02dad98a",
    "deepnote_cell_type": "markdown"
   }
  },
  {
   "cell_type": "code",
   "metadata": {
    "tags": [],
    "cell_id": "00009-bfe7cee8-26a4-442a-9884-49144295db01",
    "deepnote_to_be_reexecuted": false,
    "source_hash": "21358fc4",
    "execution_start": 1635693492849,
    "execution_millis": 212,
    "deepnote_cell_type": "code"
   },
   "source": "# Tablero Inicial\ninfo = 6\nfilas = 6\ncolumnas = 6\nminas = int((filas * columnas) * 0.16)\nIenCasilla = Descriptor([columnas, filas, info])\nms = MineSweeper(filas, columnas, minas)\nagente = Agente(ms, descriptor=IenCasilla)\ni,j = random.choice(list(agente.casillas_aleatoria()))\nagente.mundo._click_square(i,j)\nplt.savefig(\"tablero{0}x{1}/tablero{0}x{1}_{2}.png\".format(filas, columnas, 1))",
   "execution_count": null,
   "outputs": [
    {
     "data": {
      "text/plain": "<Figure size 192x192 with 1 Axes>",
      "image/png": "[encoded data removed]"
     },
     "metadata": {
      "image/png": {
       "width": 187,
       "height": 187
      }
     },
     "output_type": "display_data"
    }
   ]
  },
  {
   "cell_type": "code",
   "metadata": {
    "tags": [],
    "cell_id": "00010-7708478b-a9c5-454b-be31-20184eb20c76",
    "deepnote_to_be_reexecuted": false,
    "source_hash": "a0c1ce37",
    "execution_start": 1635693496906,
    "execution_millis": 925,
    "deepnote_cell_type": "code"
   },
   "source": "k = 2\nwhile True:\n    ## Mira estado actual\n    estado_actual = agente.make_percept_sentence()\n    ## Crea reglas para banderas\n    agente.base_conocimiento = LPQuery(agente.crear_formulas_flags())\n    agente.base_conocimiento.TELL(estado_actual)\n    lista1 = agente.adyacentes_flags()\n    ## Flag si son bombas\n    for i,j in lista1:\n        agente.mundo._toggle_mine_flag(i,j)\n           \n    ## Mira estado actual\n    estado_actual = agente.make_percept_sentence()\n    ## Crea reglas para casillas seguras\n    agente.base_conocimiento = LPQuery(agente.crear_formulas_seguras())\n    agente.base_conocimiento.TELL(estado_actual)\n    lista2 = agente.adyacentes_seguras()\n    ## Clicks si son seguras\n    for i,j in lista2:\n        agente.mundo._click_square(i,j)\n        \n    ## Si no hace nada se escoge una aleatoria\n    if len(lista1)==0 & len(lista2)==0:\n        if len(agente.casillas_aleatoria()) != 0:\n            i,j = random.choice(list(agente.casillas_aleatoria()))\n            agente.mundo._click_square(i,j)\n        elif len(agente.casillas_evaluar()) != 0:\n            i,j = random.choice(list(agente.casillas_evaluar()))\n            agente.mundo._click_square(i,j)\n    \n    ## Dibuja tablero\n    #ms.fig.canvas.draw()\n    #sleep(1)\n    #clear_output(wait=True)\n    agente.mundo.fig.savefig(\"tablero{0}x{1}/tablero{0}x{1}_{2}.png\".format(filas, columnas, k))\n    k += 1\n    if agente.mundo.game_over == True:\n        if agente.mundo.mines.sum() == (~agente.mundo.clicked).sum():\n            print('Ganaste!')\n        else:\n            print('Perdiste!')\n        break\n\nms.fig",
   "execution_count": null,
   "outputs": [
    {
     "name": "stdout",
     "text": "Ganaste!\n",
     "output_type": "stream"
    },
    {
     "output_type": "execute_result",
     "execution_count": 130,
     "data": {
      "text/plain": "<Figure size 192x192 with 1 Axes>",
      "image/png": "[encoded data removed]"
     },
     "metadata": {
      "image/png": {
       "width": 187,
       "height": 187
      }
     }
    }
   ]
  },
  {
   "cell_type": "markdown",
   "source": "### Tablero 7x7",
   "metadata": {
    "tags": [],
    "cell_id": "00011-66e8ae45-bf52-4b67-a600-78dff696436e",
    "deepnote_cell_type": "markdown"
   }
  },
  {
   "cell_type": "code",
   "metadata": {
    "tags": [],
    "cell_id": "00012-71918c2c-0f3f-4b7c-93bc-1ba4fbb36370",
    "deepnote_to_be_reexecuted": false,
    "source_hash": "eb52ad42",
    "execution_start": 1635693740381,
    "execution_millis": 299,
    "deepnote_cell_type": "code"
   },
   "source": "# Tablero Inicial\ninfo = 6\nfilas = 7\ncolumnas = 7\nminas = int((filas * columnas) * 0.16)\nIenCasilla = Descriptor([columnas, filas, info])\nms = MineSweeper(filas, columnas, minas)\nagente = Agente(ms, descriptor=IenCasilla)\ni,j = random.choice(list(agente.casillas_aleatoria()))\nagente.mundo._click_square(i,j)\nplt.savefig(\"tablero{0}x{1}/tablero{0}x{1}_{2}.png\".format(filas, columnas, 1))",
   "execution_count": null,
   "outputs": [
    {
     "data": {
      "text/plain": "<Figure size 216x216 with 1 Axes>",
      "image/png": "[encoded data removed]"
     },
     "metadata": {
      "image/png": {
       "width": 208,
       "height": 208
      }
     },
     "output_type": "display_data"
    }
   ]
  },
  {
   "cell_type": "code",
   "metadata": {
    "tags": [],
    "cell_id": "00013-dad68f3e-372b-41a5-989e-5bc65928a034",
    "deepnote_to_be_reexecuted": false,
    "source_hash": "a0c1ce37",
    "execution_start": 1635693743334,
    "execution_millis": 3222,
    "deepnote_cell_type": "code"
   },
   "source": "k = 2\nwhile True:\n    ## Mira estado actual\n    estado_actual = agente.make_percept_sentence()\n    ## Crea reglas para banderas\n    agente.base_conocimiento = LPQuery(agente.crear_formulas_flags())\n    agente.base_conocimiento.TELL(estado_actual)\n    lista1 = agente.adyacentes_flags()\n    ## Flag si son bombas\n    for i,j in lista1:\n        agente.mundo._toggle_mine_flag(i,j)\n           \n    ## Mira estado actual\n    estado_actual = agente.make_percept_sentence()\n    ## Crea reglas para casillas seguras\n    agente.base_conocimiento = LPQuery(agente.crear_formulas_seguras())\n    agente.base_conocimiento.TELL(estado_actual)\n    lista2 = agente.adyacentes_seguras()\n    ## Clicks si son seguras\n    for i,j in lista2:\n        agente.mundo._click_square(i,j)\n        \n    ## Si no hace nada se escoge una aleatoria\n    if len(lista1)==0 & len(lista2)==0:\n        if len(agente.casillas_aleatoria()) != 0:\n            i,j = random.choice(list(agente.casillas_aleatoria()))\n            agente.mundo._click_square(i,j)\n        elif len(agente.casillas_evaluar()) != 0:\n            i,j = random.choice(list(agente.casillas_evaluar()))\n            agente.mundo._click_square(i,j)\n    \n    ## Dibuja tablero\n    #ms.fig.canvas.draw()\n    #sleep(1)\n    #clear_output(wait=True)\n    agente.mundo.fig.savefig(\"tablero{0}x{1}/tablero{0}x{1}_{2}.png\".format(filas, columnas, k))\n    k += 1\n    if agente.mundo.game_over == True:\n        if agente.mundo.mines.sum() == (~agente.mundo.clicked).sum():\n            print('Ganaste!')\n        else:\n            print('Perdiste!')\n        break\n\nms.fig",
   "execution_count": null,
   "outputs": [
    {
     "name": "stdout",
     "text": "Ganaste!\n",
     "output_type": "stream"
    },
    {
     "output_type": "execute_result",
     "execution_count": 135,
     "data": {
      "text/plain": "<Figure size 216x216 with 1 Axes>",
      "image/png": "[encoded data removed]"
     },
     "metadata": {
      "image/png": {
       "width": 208,
       "height": 208
      }
     }
    }
   ]
  },
  {
   "cell_type": "markdown",
   "source": "### Tablero 8x8",
   "metadata": {
    "tags": [],
    "cell_id": "00014-83ff83c4-ea4f-43b2-a680-a4c69bdd468d",
    "deepnote_cell_type": "markdown"
   }
  },
  {
   "cell_type": "code",
   "metadata": {
    "tags": [],
    "cell_id": "00015-ee1b3599-fa50-444f-ab42-38869aee76b2",
    "deepnote_to_be_reexecuted": false,
    "source_hash": "44d43226",
    "execution_start": 1635693936885,
    "execution_millis": 655,
    "deepnote_cell_type": "code"
   },
   "source": "# Tablero Inicial\ninfo = 6\nfilas = 8\ncolumnas = 8\nminas = int((filas * columnas) * 0.16)\nIenCasilla = Descriptor([columnas, filas, info])\nms = MineSweeper(filas, columnas, minas)\nagente = Agente(ms, descriptor=IenCasilla)\ni,j = random.choice(list(agente.casillas_aleatoria()))\nagente.mundo._click_square(i,j)\nplt.savefig(\"tablero{0}x{1}/tablero{0}x{1}_{2}.png\".format(filas, columnas, 1))",
   "execution_count": null,
   "outputs": [
    {
     "data": {
      "text/plain": "<Figure size 240x240 with 1 Axes>",
      "image/png": "[encoded data removed]"
     },
     "metadata": {
      "image/png": {
       "width": 230,
       "height": 230
      }
     },
     "output_type": "display_data"
    }
   ]
  },
  {
   "cell_type": "code",
   "metadata": {
    "tags": [],
    "cell_id": "00016-0580f099-2a0c-4dd2-9ed1-975ce9ab1432",
    "deepnote_to_be_reexecuted": false,
    "source_hash": "a0c1ce37",
    "execution_start": 1635693941204,
    "execution_millis": 2442,
    "deepnote_cell_type": "code"
   },
   "source": "k = 2\nwhile True:\n    ## Mira estado actual\n    estado_actual = agente.make_percept_sentence()\n    ## Crea reglas para banderas\n    agente.base_conocimiento = LPQuery(agente.crear_formulas_flags())\n    agente.base_conocimiento.TELL(estado_actual)\n    lista1 = agente.adyacentes_flags()\n    ## Flag si son bombas\n    for i,j in lista1:\n        agente.mundo._toggle_mine_flag(i,j)\n           \n    ## Mira estado actual\n    estado_actual = agente.make_percept_sentence()\n    ## Crea reglas para casillas seguras\n    agente.base_conocimiento = LPQuery(agente.crear_formulas_seguras())\n    agente.base_conocimiento.TELL(estado_actual)\n    lista2 = agente.adyacentes_seguras()\n    ## Clicks si son seguras\n    for i,j in lista2:\n        agente.mundo._click_square(i,j)\n        \n    ## Si no hace nada se escoge una aleatoria\n    if len(lista1)==0 & len(lista2)==0:\n        if len(agente.casillas_aleatoria()) != 0:\n            i,j = random.choice(list(agente.casillas_aleatoria()))\n            agente.mundo._click_square(i,j)\n        elif len(agente.casillas_evaluar()) != 0:\n            i,j = random.choice(list(agente.casillas_evaluar()))\n            agente.mundo._click_square(i,j)\n    \n    ## Dibuja tablero\n    #ms.fig.canvas.draw()\n    #sleep(1)\n    #clear_output(wait=True)\n    agente.mundo.fig.savefig(\"tablero{0}x{1}/tablero{0}x{1}_{2}.png\".format(filas, columnas, k))\n    k += 1\n    if agente.mundo.game_over == True:\n        if agente.mundo.mines.sum() == (~agente.mundo.clicked).sum():\n            print('Ganaste!')\n        else:\n            print('Perdiste!')\n        break\n\nms.fig",
   "execution_count": null,
   "outputs": [
    {
     "name": "stdout",
     "text": "Ganaste!\n",
     "output_type": "stream"
    },
    {
     "output_type": "execute_result",
     "execution_count": 140,
     "data": {
      "text/plain": "<Figure size 240x240 with 1 Axes>",
      "image/png": "[encoded data removed]"
     },
     "metadata": {
      "image/png": {
       "width": 230,
       "height": 230
      }
     }
    }
   ]
  },
  {
   "cell_type": "markdown",
   "source": "### Tablero 9x9",
   "metadata": {
    "tags": [],
    "cell_id": "00017-ddaec57e-1561-4010-a0dd-c3c3fc7ba5c6",
    "deepnote_cell_type": "markdown"
   }
  },
  {
   "cell_type": "code",
   "metadata": {
    "tags": [],
    "cell_id": "00018-294dfeff-c2d4-445e-b906-f07bfa642d1c",
    "deepnote_to_be_reexecuted": false,
    "source_hash": "60f0d4ea",
    "execution_start": 1635694088994,
    "execution_millis": 649,
    "deepnote_cell_type": "code"
   },
   "source": "# Tablero Inicial\ninfo = 6\nfilas = 9\ncolumnas = 9\nminas = int((filas * columnas) * 0.16)\nIenCasilla = Descriptor([columnas, filas, info])\nms = MineSweeper(filas, columnas, minas)\nagente = Agente(ms, descriptor=IenCasilla)\ni,j = random.choice(list(agente.casillas_aleatoria()))\nagente.mundo._click_square(i,j)\nplt.savefig(\"tablero{0}x{1}/tablero{0}x{1}_{2}.png\".format(filas, columnas, 1))",
   "execution_count": null,
   "outputs": [
    {
     "data": {
      "text/plain": "<Figure size 264x264 with 1 Axes>",
      "image/png": "[encoded data removed]"
     },
     "metadata": {
      "image/png": {
       "width": 252,
       "height": 252
      }
     },
     "output_type": "display_data"
    }
   ]
  },
  {
   "cell_type": "code",
   "metadata": {
    "tags": [],
    "cell_id": "00018-137ed4ce-97cd-4ed8-a16d-b7a67af3316b",
    "deepnote_to_be_reexecuted": false,
    "source_hash": "a0c1ce37",
    "execution_start": 1635694112390,
    "execution_millis": 3944,
    "deepnote_cell_type": "code"
   },
   "source": "k = 2\nwhile True:\n    ## Mira estado actual\n    estado_actual = agente.make_percept_sentence()\n    ## Crea reglas para banderas\n    agente.base_conocimiento = LPQuery(agente.crear_formulas_flags())\n    agente.base_conocimiento.TELL(estado_actual)\n    lista1 = agente.adyacentes_flags()\n    ## Flag si son bombas\n    for i,j in lista1:\n        agente.mundo._toggle_mine_flag(i,j)\n           \n    ## Mira estado actual\n    estado_actual = agente.make_percept_sentence()\n    ## Crea reglas para casillas seguras\n    agente.base_conocimiento = LPQuery(agente.crear_formulas_seguras())\n    agente.base_conocimiento.TELL(estado_actual)\n    lista2 = agente.adyacentes_seguras()\n    ## Clicks si son seguras\n    for i,j in lista2:\n        agente.mundo._click_square(i,j)\n        \n    ## Si no hace nada se escoge una aleatoria\n    if len(lista1)==0 & len(lista2)==0:\n        if len(agente.casillas_aleatoria()) != 0:\n            i,j = random.choice(list(agente.casillas_aleatoria()))\n            agente.mundo._click_square(i,j)\n        elif len(agente.casillas_evaluar()) != 0:\n            i,j = random.choice(list(agente.casillas_evaluar()))\n            agente.mundo._click_square(i,j)\n    \n    ## Dibuja tablero\n    #ms.fig.canvas.draw()\n    #sleep(1)\n    #clear_output(wait=True)\n    agente.mundo.fig.savefig(\"tablero{0}x{1}/tablero{0}x{1}_{2}.png\".format(filas, columnas, k))\n    k += 1\n    if agente.mundo.game_over == True:\n        if agente.mundo.mines.sum() == (~agente.mundo.clicked).sum():\n            print('Ganaste!')\n        else:\n            print('Perdiste!')\n        break\n\nms.fig",
   "execution_count": null,
   "outputs": [
    {
     "name": "stdout",
     "text": "Ganaste!\n",
     "output_type": "stream"
    },
    {
     "output_type": "execute_result",
     "execution_count": 142,
     "data": {
      "text/plain": "<Figure size 264x264 with 1 Axes>",
      "image/png": "[encoded data removed]"
     },
     "metadata": {
      "image/png": {
       "width": 252,
       "height": 252
      }
     }
    }
   ]
  },
  {
   "cell_type": "markdown",
   "source": "### Tablero 10x10",
   "metadata": {
    "tags": [],
    "cell_id": "00020-26059336-996f-4170-802d-f2092c077e7f",
    "deepnote_cell_type": "markdown"
   }
  },
  {
   "cell_type": "code",
   "metadata": {
    "tags": [],
    "cell_id": "00021-2873fa0e-4766-409e-9420-09d745f24dca",
    "deepnote_to_be_reexecuted": false,
    "source_hash": "9124fd3",
    "execution_start": 1635698143001,
    "execution_millis": 762,
    "deepnote_cell_type": "code"
   },
   "source": "# Tablero Inicial\ninfo = 6\nfilas = 10\ncolumnas = 10\nminas = int((filas * columnas) * 0.16)\nIenCasilla = Descriptor([columnas, filas, info])\nms = MineSweeper(filas, columnas, minas)\nagente = Agente(ms, descriptor=IenCasilla)\ni,j = random.choice(list(agente.casillas_aleatoria()))\nagente.mundo._click_square(i,j)\nplt.savefig(\"tablero{0}x{1}/tablero{0}x{1}_{2}.png\".format(filas, columnas, 1))",
   "execution_count": null,
   "outputs": [
    {
     "data": {
      "text/plain": "<Figure size 288x288 with 1 Axes>",
      "image/png": "[encoded data removed]"
     },
     "metadata": {
      "image/png": {
       "width": 273,
       "height": 273
      }
     },
     "output_type": "display_data"
    }
   ]
  },
  {
   "cell_type": "code",
   "metadata": {
    "tags": [],
    "cell_id": "00022-1fb1b23a-f389-4728-831b-019488c70eff",
    "deepnote_to_be_reexecuted": false,
    "source_hash": "a0c1ce37",
    "execution_start": 1635698152287,
    "execution_millis": 5253,
    "deepnote_cell_type": "code"
   },
   "source": "k = 2\nwhile True:\n    ## Mira estado actual\n    estado_actual = agente.make_percept_sentence()\n    ## Crea reglas para banderas\n    agente.base_conocimiento = LPQuery(agente.crear_formulas_flags())\n    agente.base_conocimiento.TELL(estado_actual)\n    lista1 = agente.adyacentes_flags()\n    ## Flag si son bombas\n    for i,j in lista1:\n        agente.mundo._toggle_mine_flag(i,j)\n           \n    ## Mira estado actual\n    estado_actual = agente.make_percept_sentence()\n    ## Crea reglas para casillas seguras\n    agente.base_conocimiento = LPQuery(agente.crear_formulas_seguras())\n    agente.base_conocimiento.TELL(estado_actual)\n    lista2 = agente.adyacentes_seguras()\n    ## Clicks si son seguras\n    for i,j in lista2:\n        agente.mundo._click_square(i,j)\n        \n    ## Si no hace nada se escoge una aleatoria\n    if len(lista1)==0 & len(lista2)==0:\n        if len(agente.casillas_aleatoria()) != 0:\n            i,j = random.choice(list(agente.casillas_aleatoria()))\n            agente.mundo._click_square(i,j)\n        elif len(agente.casillas_evaluar()) != 0:\n            i,j = random.choice(list(agente.casillas_evaluar()))\n            agente.mundo._click_square(i,j)\n    \n    ## Dibuja tablero\n    #ms.fig.canvas.draw()\n    #sleep(1)\n    #clear_output(wait=True)\n    agente.mundo.fig.savefig(\"tablero{0}x{1}/tablero{0}x{1}_{2}.png\".format(filas, columnas, k))\n    k += 1\n    if agente.mundo.game_over == True:\n        if agente.mundo.mines.sum() == (~agente.mundo.clicked).sum():\n            print('Ganaste!')\n        else:\n            print('Perdiste!')\n        break\n\nms.fig",
   "execution_count": null,
   "outputs": [
    {
     "name": "stdout",
     "text": "Ganaste!\n",
     "output_type": "stream"
    },
    {
     "output_type": "execute_result",
     "execution_count": 209,
     "data": {
      "text/plain": "<Figure size 288x288 with 1 Axes>",
      "image/png": "[encoded data removed]"
     },
     "metadata": {
      "image/png": {
       "width": 273,
       "height": 273
      }
     }
    }
   ]
  },
  {
   "cell_type": "markdown",
   "source": "### Tablero 16x16",
   "metadata": {
    "tags": [],
    "cell_id": "00023-12b7e835-257d-4f7e-80e9-f9c33daaff54",
    "deepnote_cell_type": "markdown"
   }
  },
  {
   "cell_type": "code",
   "metadata": {
    "tags": [],
    "cell_id": "00024-0fad7996-5df5-4a57-9b0a-632fdc51f188",
    "deepnote_to_be_reexecuted": false,
    "source_hash": "7af3b68e",
    "execution_start": 1635698376617,
    "execution_millis": 956,
    "deepnote_cell_type": "code"
   },
   "source": "# Tablero Inicial\ninfo = 5\nfilas = 16\ncolumnas = 16\nminas = int((filas * columnas) * 0.16)\nIenCasilla = Descriptor([columnas, filas, info])\nms = MineSweeper(filas, columnas, minas)\nagente = Agente(ms, descriptor=IenCasilla)\ni,j = random.choice(list(agente.casillas_aleatoria()))\nagente.mundo._click_square(i,j)\nagente.mundo.fig.savefig(\"tablero{0}x{1}/tablero{0}x{1}_{2}.png\".format(filas, columnas, 1))",
   "execution_count": null,
   "outputs": [
    {
     "data": {
      "text/plain": "<Figure size 432x432 with 1 Axes>",
      "image/png": "[encoded data removed]"
     },
     "metadata": {
      "image/png": {
       "width": 403,
       "height": 403
      }
     },
     "output_type": "display_data"
    }
   ]
  },
  {
   "cell_type": "code",
   "metadata": {
    "tags": [],
    "cell_id": "00025-db84cbbb-1baf-411e-a229-14e6821855c4",
    "deepnote_to_be_reexecuted": false,
    "source_hash": "a0c1ce37",
    "execution_start": 1635698388240,
    "execution_millis": 82331,
    "deepnote_cell_type": "code"
   },
   "source": "k = 2\nwhile True:\n    ## Mira estado actual\n    estado_actual = agente.make_percept_sentence()\n    ## Crea reglas para banderas\n    agente.base_conocimiento = LPQuery(agente.crear_formulas_flags())\n    agente.base_conocimiento.TELL(estado_actual)\n    lista1 = agente.adyacentes_flags()\n    ## Flag si son bombas\n    for i,j in lista1:\n        agente.mundo._toggle_mine_flag(i,j)\n           \n    ## Mira estado actual\n    estado_actual = agente.make_percept_sentence()\n    ## Crea reglas para casillas seguras\n    agente.base_conocimiento = LPQuery(agente.crear_formulas_seguras())\n    agente.base_conocimiento.TELL(estado_actual)\n    lista2 = agente.adyacentes_seguras()\n    ## Clicks si son seguras\n    for i,j in lista2:\n        agente.mundo._click_square(i,j)\n        \n    ## Si no hace nada se escoge una aleatoria\n    if len(lista1)==0 & len(lista2)==0:\n        if len(agente.casillas_aleatoria()) != 0:\n            i,j = random.choice(list(agente.casillas_aleatoria()))\n            agente.mundo._click_square(i,j)\n        elif len(agente.casillas_evaluar()) != 0:\n            i,j = random.choice(list(agente.casillas_evaluar()))\n            agente.mundo._click_square(i,j)\n    \n    ## Dibuja tablero\n    #ms.fig.canvas.draw()\n    #sleep(1)\n    #clear_output(wait=True)\n    agente.mundo.fig.savefig(\"tablero{0}x{1}/tablero{0}x{1}_{2}.png\".format(filas, columnas, k))\n    k += 1\n    if agente.mundo.game_over == True:\n        if agente.mundo.mines.sum() == (~agente.mundo.clicked).sum():\n            print('Ganaste!')\n        else:\n            print('Perdiste!')\n        break\n\nms.fig",
   "execution_count": null,
   "outputs": [
    {
     "name": "stdout",
     "text": "Ganaste!\n",
     "output_type": "stream"
    },
    {
     "output_type": "execute_result",
     "execution_count": 213,
     "data": {
      "text/plain": "<Figure size 432x432 with 1 Axes>",
      "image/png": "[encoded data removed]"
     },
     "metadata": {
      "image/png": {
       "width": 403,
       "height": 403
      }
     }
    }
   ]
  },
  {
   "cell_type": "markdown",
   "source": "## Animación",
   "metadata": {
    "tags": [],
    "cell_id": "00026-3525f792-5222-42db-a108-4087aec33d7a",
    "deepnote_cell_type": "markdown"
   }
  },
  {
   "cell_type": "code",
   "metadata": {
    "tags": [],
    "cell_id": "00026-760a36a8-e6d9-4353-a24e-48bce3b4fb6e",
    "deepnote_to_be_reexecuted": false,
    "source_hash": "c5e9b1ab",
    "execution_start": 1635719219386,
    "execution_millis": 45744,
    "deepnote_cell_type": "code"
   },
   "source": "def animacion(n):\n    carp = 'tablero{0}x{0}/'.format(n)\n    cont = os.listdir(carp)\n    imgs = sorted(sorted(cont), key = lambda x: len(x))\n    for img in imgs:\n        clear_output(wait = True)\n        display(Image.open(carp + img))\n        sleep(3)\n\nanimacion(16)",
   "outputs": [
    {
     "output_type": "clearOutput"
    },
    {
     "data": {
      "text/plain": "<PIL.PngImagePlugin.PngImageFile image mode=RGBA size=432x432 at 0x7F279463B650>",
      "image/png": "[encoded data removed]"
     },
     "metadata": {
      "image/png": {
       "width": 432,
       "height": 432
      }
     },
     "output_type": "display_data"
    }
   ],
   "execution_count": null
  },
  {
   "cell_type": "markdown",
   "source": "## Análisis del Método",
   "metadata": {
    "tags": [],
    "cell_id": "00026-f6f36962-7d68-4b44-9bcb-4eea9213eb4f",
    "deepnote_cell_type": "markdown"
   }
  },
  {
   "cell_type": "code",
   "metadata": {
    "tags": [],
    "cell_id": "00027-68524a7e-b498-4eab-981c-b36a784a2da3",
    "deepnote_to_be_reexecuted": false,
    "source_hash": "b2abbbf5",
    "execution_start": 1635715403415,
    "execution_millis": 2053870,
    "deepnote_cell_type": "code"
   },
   "source": "%%capture\n\nresults = []\nrounds = 100\nfor n in range(5, 11):\n    # print('Tablero {0}x{1}:'.format(n, n))\n    ganados = 0\n    perdidos = 0\n    tiempos = 0\n    turnos = 0\n    for g in range(rounds):\n        # Tablero Inicial\n        begin = time()\n        info = 6\n        filas = n\n        columnas = n\n        minas = int((filas * columnas) * 0.16)\n        IenCasilla = Descriptor([columnas, filas, info])\n        ms = MineSweeper(filas, columnas, minas)\n        agente = Agente(ms, descriptor=IenCasilla)\n        i,j = random.choice(list(agente.casillas_aleatoria()))\n        agente.mundo._click_square(i,j)\n        # clear_output(wait = True)\n        t = 1\n        while True:\n            ## Mira estado actual\n            estado_actual = agente.make_percept_sentence()\n            ## Crea reglas para banderas\n            agente.base_conocimiento = LPQuery(agente.crear_formulas_flags())\n            agente.base_conocimiento.TELL(estado_actual)\n            lista1 = agente.adyacentes_flags()\n            ## Flag si son bombas\n            for i,j in lista1:\n                agente.mundo._toggle_mine_flag(i,j)\n                \n            ## Mira estado actual\n            estado_actual = agente.make_percept_sentence()\n            ## Crea reglas para casillas seguras\n            agente.base_conocimiento = LPQuery(agente.crear_formulas_seguras())\n            agente.base_conocimiento.TELL(estado_actual)\n            lista2 = agente.adyacentes_seguras()\n            ## Clicks si son seguras\n            for i,j in lista2:\n                agente.mundo._click_square(i,j)\n                \n            ## Si no hace nada se escoge una aleatoria\n            if len(lista1)==0 & len(lista2)==0:\n                if len(agente.casillas_aleatoria()) != 0:\n                    i,j = random.choice(list(agente.casillas_aleatoria()))\n                    agente.mundo._click_square(i,j)\n                elif len(agente.casillas_evaluar()) != 0:\n                    i,j = random.choice(list(agente.casillas_evaluar()))\n                    agente.mundo._click_square(i,j)\n            \n            t += 1\n\n            if agente.mundo.game_over == True:\n                if agente.mundo.mines.sum() == (~agente.mundo.clicked).sum():\n                    #print('Ganaste!')\n                    ganados += 1\n                else:\n                    #print('Perdiste!')\n                    perdidos += 1\n                break\n        end = time()\n        tiempos += end - begin\n        turnos += t\n        # print('  Ronda {0}'.format(g + 1))\n    # print()\n    results.append((n, ganados, perdidos, tiempos / rounds, turnos / rounds))\n        ",
   "outputs": [],
   "execution_count": null
  },
  {
   "cell_type": "code",
   "metadata": {
    "tags": [],
    "cell_id": "00028-98d64fa6-0ae5-49a5-b2d7-5062664dbff4",
    "deepnote_to_be_reexecuted": false,
    "source_hash": "8d86b2ee",
    "execution_start": 1635718046906,
    "execution_millis": 0,
    "deepnote_cell_type": "code"
   },
   "source": "for r in results:\n    print(r)",
   "outputs": [
    {
     "name": "stdout",
     "text": "(5, 52, 48, 0.3063257956504822, 4.93)\n(6, 64, 36, 0.5596313142776489, 5.64)\n(7, 57, 43, 1.0291175103187562, 6.78)\n(8, 40, 60, 2.2998457622528075, 6.8)\n(9, 48, 52, 5.858246333599091, 7.65)\n(10, 39, 61, 9.76101463317871, 9.36)\n",
     "output_type": "stream"
    }
   ],
   "execution_count": null
  },
  {
   "cell_type": "code",
   "metadata": {
    "tags": [],
    "cell_id": "00031-467a65f1-5a95-421d-ba7c-60ce645d2831",
    "deepnote_to_be_reexecuted": false,
    "source_hash": "cbdd1205",
    "execution_start": 1635718058081,
    "execution_millis": 22,
    "deepnote_cell_type": "code"
   },
   "source": "accuracy = [i[1]/rounds for i in results]\nprint(accuracy)",
   "outputs": [
    {
     "name": "stdout",
     "text": "[0.52, 0.64, 0.57, 0.4, 0.48, 0.39]\n",
     "output_type": "stream"
    }
   ],
   "execution_count": null
  },
  {
   "cell_type": "code",
   "source": "df = pd.DataFrame()\ndf['Dimensión'] = [i[0] for i in results]\ndf['Ganadas'] = [i[1] for i in results]\ndf['Perdidas'] = [i[2] for i in results]\ndf['Tiempo'] = [i[3] for i in results]\ndf['Turno'] = [i[4] for i in results]\ndf['Score'] = accuracy\ndf.style.set_caption('Tabla de Rendimiento Promedio \\n para diferentes tableros (100 rondas)')\ndf",
   "metadata": {
    "tags": [],
    "cell_id": "00032-82543d0d-f874-4776-a361-63b440879ce5",
    "deepnote_to_be_reexecuted": false,
    "source_hash": "5e83a072",
    "execution_start": 1635718500055,
    "execution_millis": 283,
    "deepnote_cell_type": "code"
   },
   "outputs": [
    {
     "output_type": "execute_result",
     "execution_count": 15,
     "data": {
      "application/vnd.deepnote.dataframe.v2+json": {
       "row_count": 6,
       "column_count": 6,
       "columns": [
        {
         "name": "Dimensión",
         "dtype": "int64",
         "stats": {
          "unique_count": 6,
          "nan_count": 0,
          "min": "5",
          "max": "10",
          "histogram": [
           {
            "bin_start": 5,
            "bin_end": 5.5,
            "count": 1
           },
           {
            "bin_start": 5.5,
            "bin_end": 6,
            "count": 0
           },
           {
            "bin_start": 6,
            "bin_end": 6.5,
            "count": 1
           },
           {
            "bin_start": 6.5,
            "bin_end": 7,
            "count": 0
           },
           {
            "bin_start": 7,
            "bin_end": 7.5,
            "count": 1
           },
           {
            "bin_start": 7.5,
            "bin_end": 8,
            "count": 0
           },
           {
            "bin_start": 8,
            "bin_end": 8.5,
            "count": 1
           },
           {
            "bin_start": 8.5,
            "bin_end": 9,
            "count": 0
           },
           {
            "bin_start": 9,
            "bin_end": 9.5,
            "count": 1
           },
           {
            "bin_start": 9.5,
            "bin_end": 10,
            "count": 1
           }
          ]
         }
        },
        {
         "name": "Ganadas",
         "dtype": "int64",
         "stats": {
          "unique_count": 6,
          "nan_count": 0,
          "min": "39",
          "max": "64",
          "histogram": [
           {
            "bin_start": 39,
            "bin_end": 41.5,
            "count": 2
           },
           {
            "bin_start": 41.5,
            "bin_end": 44,
            "count": 0
           },
           {
            "bin_start": 44,
            "bin_end": 46.5,
            "count": 0
           },
           {
            "bin_start": 46.5,
            "bin_end": 49,
            "count": 1
           },
           {
            "bin_start": 49,
            "bin_end": 51.5,
            "count": 0
           },
           {
            "bin_start": 51.5,
            "bin_end": 54,
            "count": 1
           },
           {
            "bin_start": 54,
            "bin_end": 56.5,
            "count": 0
           },
           {
            "bin_start": 56.5,
            "bin_end": 59,
            "count": 1
           },
           {
            "bin_start": 59,
            "bin_end": 61.5,
            "count": 0
           },
           {
            "bin_start": 61.5,
            "bin_end": 64,
            "count": 1
           }
          ]
         }
        },
        {
         "name": "Perdidas",
         "dtype": "int64",
         "stats": {
          "unique_count": 6,
          "nan_count": 0,
          "min": "36",
          "max": "61",
          "histogram": [
           {
            "bin_start": 36,
            "bin_end": 38.5,
            "count": 1
           },
           {
            "bin_start": 38.5,
            "bin_end": 41,
            "count": 0
           },
           {
            "bin_start": 41,
            "bin_end": 43.5,
            "count": 1
           },
           {
            "bin_start": 43.5,
            "bin_end": 46,
            "count": 0
           },
           {
            "bin_start": 46,
            "bin_end": 48.5,
            "count": 1
           },
           {
            "bin_start": 48.5,
            "bin_end": 51,
            "count": 0
           },
           {
            "bin_start": 51,
            "bin_end": 53.5,
            "count": 1
           },
           {
            "bin_start": 53.5,
            "bin_end": 56,
            "count": 0
           },
           {
            "bin_start": 56,
            "bin_end": 58.5,
            "count": 0
           },
           {
            "bin_start": 58.5,
            "bin_end": 61,
            "count": 2
           }
          ]
         }
        },
        {
         "name": "Tiempo",
         "dtype": "float64",
         "stats": {
          "unique_count": 6,
          "nan_count": 0,
          "min": "0.3063257956504822",
          "max": "9.76101463317871",
          "histogram": [
           {
            "bin_start": 0.3063257956504822,
            "bin_end": 1.251794679403305,
            "count": 3
           },
           {
            "bin_start": 1.251794679403305,
            "bin_end": 2.197263563156128,
            "count": 0
           },
           {
            "bin_start": 2.197263563156128,
            "bin_end": 3.142732446908951,
            "count": 1
           },
           {
            "bin_start": 3.142732446908951,
            "bin_end": 4.088201330661774,
            "count": 0
           },
           {
            "bin_start": 4.088201330661774,
            "bin_end": 5.033670214414597,
            "count": 0
           },
           {
            "bin_start": 5.033670214414597,
            "bin_end": 5.97913909816742,
            "count": 1
           },
           {
            "bin_start": 5.97913909816742,
            "bin_end": 6.924607981920243,
            "count": 0
           },
           {
            "bin_start": 6.924607981920243,
            "bin_end": 7.870076865673066,
            "count": 0
           },
           {
            "bin_start": 7.870076865673066,
            "bin_end": 8.815545749425889,
            "count": 0
           },
           {
            "bin_start": 8.815545749425889,
            "bin_end": 9.76101463317871,
            "count": 1
           }
          ]
         }
        },
        {
         "name": "Turno",
         "dtype": "float64",
         "stats": {
          "unique_count": 6,
          "nan_count": 0,
          "min": "4.93",
          "max": "9.36",
          "histogram": [
           {
            "bin_start": 4.93,
            "bin_end": 5.372999999999999,
            "count": 1
           },
           {
            "bin_start": 5.372999999999999,
            "bin_end": 5.816,
            "count": 1
           },
           {
            "bin_start": 5.816,
            "bin_end": 6.2589999999999995,
            "count": 0
           },
           {
            "bin_start": 6.2589999999999995,
            "bin_end": 6.702,
            "count": 0
           },
           {
            "bin_start": 6.702,
            "bin_end": 7.145,
            "count": 2
           },
           {
            "bin_start": 7.145,
            "bin_end": 7.587999999999999,
            "count": 0
           },
           {
            "bin_start": 7.587999999999999,
            "bin_end": 8.030999999999999,
            "count": 1
           },
           {
            "bin_start": 8.030999999999999,
            "bin_end": 8.474,
            "count": 0
           },
           {
            "bin_start": 8.474,
            "bin_end": 8.917,
            "count": 0
           },
           {
            "bin_start": 8.917,
            "bin_end": 9.36,
            "count": 1
           }
          ]
         }
        },
        {
         "name": "Score",
         "dtype": "float64",
         "stats": {
          "unique_count": 6,
          "nan_count": 0,
          "min": "0.39",
          "max": "0.64",
          "histogram": [
           {
            "bin_start": 0.39,
            "bin_end": 0.41500000000000004,
            "count": 2
           },
           {
            "bin_start": 0.41500000000000004,
            "bin_end": 0.44,
            "count": 0
           },
           {
            "bin_start": 0.44,
            "bin_end": 0.465,
            "count": 0
           },
           {
            "bin_start": 0.465,
            "bin_end": 0.49,
            "count": 1
           },
           {
            "bin_start": 0.49,
            "bin_end": 0.515,
            "count": 0
           },
           {
            "bin_start": 0.515,
            "bin_end": 0.54,
            "count": 1
           },
           {
            "bin_start": 0.54,
            "bin_end": 0.5650000000000001,
            "count": 0
           },
           {
            "bin_start": 0.5650000000000001,
            "bin_end": 0.5900000000000001,
            "count": 1
           },
           {
            "bin_start": 0.5900000000000001,
            "bin_end": 0.615,
            "count": 0
           },
           {
            "bin_start": 0.615,
            "bin_end": 0.64,
            "count": 1
           }
          ]
         }
        },
        {
         "name": "_deepnote_index_column",
         "dtype": "int64"
        }
       ],
       "rows_top": [
        {
         "Dimensión": 5,
         "Ganadas": 52,
         "Perdidas": 48,
         "Tiempo": 0.3063257956504822,
         "Turno": 4.93,
         "Score": 0.52,
         "_deepnote_index_column": 0
        },
        {
         "Dimensión": 6,
         "Ganadas": 64,
         "Perdidas": 36,
         "Tiempo": 0.5596313142776489,
         "Turno": 5.64,
         "Score": 0.64,
         "_deepnote_index_column": 1
        },
        {
         "Dimensión": 7,
         "Ganadas": 57,
         "Perdidas": 43,
         "Tiempo": 1.0291175103187562,
         "Turno": 6.78,
         "Score": 0.57,
         "_deepnote_index_column": 2
        },
        {
         "Dimensión": 8,
         "Ganadas": 40,
         "Perdidas": 60,
         "Tiempo": 2.2998457622528075,
         "Turno": 6.8,
         "Score": 0.4,
         "_deepnote_index_column": 3
        },
        {
         "Dimensión": 9,
         "Ganadas": 48,
         "Perdidas": 52,
         "Tiempo": 5.858246333599091,
         "Turno": 7.65,
         "Score": 0.48,
         "_deepnote_index_column": 4
        },
        {
         "Dimensión": 10,
         "Ganadas": 39,
         "Perdidas": 61,
         "Tiempo": 9.76101463317871,
         "Turno": 9.36,
         "Score": 0.39,
         "_deepnote_index_column": 5
        }
       ],
       "rows_bottom": null
      },
      "text/plain": "   Dimensión  Ganadas  Perdidas    Tiempo  Turno  Score\n0          5       52        48  0.306326   4.93   0.52\n1          6       64        36  0.559631   5.64   0.64\n2          7       57        43  1.029118   6.78   0.57\n3          8       40        60  2.299846   6.80   0.40\n4          9       48        52  5.858246   7.65   0.48\n5         10       39        61  9.761015   9.36   0.39",
      "text/html": "<div>\n<style scoped>\n    .dataframe tbody tr th:only-of-type {\n        vertical-align: middle;\n    }\n\n    .dataframe tbody tr th {\n        vertical-align: top;\n    }\n\n    .dataframe thead th {\n        text-align: right;\n    }\n</style>\n<table border=\"1\" class=\"dataframe\">\n  <thead>\n    <tr style=\"text-align: right;\">\n      <th></th>\n      <th>Dimensión</th>\n      <th>Ganadas</th>\n      <th>Perdidas</th>\n      <th>Tiempo</th>\n      <th>Turno</th>\n      <th>Score</th>\n    </tr>\n  </thead>\n  <tbody>\n    <tr>\n      <th>0</th>\n      <td>5</td>\n      <td>52</td>\n      <td>48</td>\n      <td>0.306326</td>\n      <td>4.93</td>\n      <td>0.52</td>\n    </tr>\n    <tr>\n      <th>1</th>\n      <td>6</td>\n      <td>64</td>\n      <td>36</td>\n      <td>0.559631</td>\n      <td>5.64</td>\n      <td>0.64</td>\n    </tr>\n    <tr>\n      <th>2</th>\n      <td>7</td>\n      <td>57</td>\n      <td>43</td>\n      <td>1.029118</td>\n      <td>6.78</td>\n      <td>0.57</td>\n    </tr>\n    <tr>\n      <th>3</th>\n      <td>8</td>\n      <td>40</td>\n      <td>60</td>\n      <td>2.299846</td>\n      <td>6.80</td>\n      <td>0.40</td>\n    </tr>\n    <tr>\n      <th>4</th>\n      <td>9</td>\n      <td>48</td>\n      <td>52</td>\n      <td>5.858246</td>\n      <td>7.65</td>\n      <td>0.48</td>\n    </tr>\n    <tr>\n      <th>5</th>\n      <td>10</td>\n      <td>39</td>\n      <td>61</td>\n      <td>9.761015</td>\n      <td>9.36</td>\n      <td>0.39</td>\n    </tr>\n  </tbody>\n</table>\n</div>"
     },
     "metadata": {}
    }
   ],
   "execution_count": null
  },
  {
   "cell_type": "markdown",
   "source": "<a style='text-decoration:none;line-height:16px;display:flex;color:#5B5B62;padding:10px;justify-content:end;' href='https://deepnote.com?utm_source=created-in-deepnote-cell&projectId=dc91f887-ddd9-402c-9859-1c4cf0158620' target=\"_blank\">\n<img alt='Created in deepnote.com' style='display:inline;max-height:16px;margin:0px;margin-right:7.5px;' src='data:image/svg+xml;base64,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' > </img>\nCreated in <span style='font-weight:600;margin-left:4px;'>Deepnote</span></a>",
   "metadata": {
    "tags": [],
    "created_in_deepnote_cell": true,
    "deepnote_cell_type": "markdown"
   }
  }
 ],
 "nbformat": 4,
 "nbformat_minor": 2,
 "metadata": {
  "orig_nbformat": 2,
  "deepnote": {
   "is_reactive": false
  },
  "deepnote_notebook_id": "4cc4c5ee-1886-4177-9faf-c55e85934e27",
  "deepnote_execution_queue": []
 }
}